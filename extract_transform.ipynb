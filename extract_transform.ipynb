{
 "cells": [
  {
   "cell_type": "code",
   "execution_count": 2,
   "id": "bbd9339f-82bc-479c-85ae-849adb163e47",
   "metadata": {},
   "outputs": [],
   "source": [
    "import pandas as pd"
   ]
  },
  {
   "cell_type": "code",
   "execution_count": 4,
   "id": "a546f937-52e8-4fb9-8747-4c8b4a14eef5",
   "metadata": {},
   "outputs": [],
   "source": [
    "df = pd.read_excel('Data/TimeManagement.xlsx')"
   ]
  },
  {
   "cell_type": "code",
   "execution_count": 5,
   "id": "0b50c7dc-835d-402c-88d6-8c88a129c00c",
   "metadata": {
    "scrolled": true
   },
   "outputs": [],
   "source": [
    "df.dropna(inplace=True)\n",
    "df.rename(columns={'Date/Apps': 'Date', 'Numbers Opened': 'Numbers_opened', 'Average Time': 'Average_time', \n",
    "                   'Exercise + Samsung Notes': 'Exercise_and_Samsung_notes'}, inplace=True)"
   ]
  },
  {
   "cell_type": "code",
   "execution_count": 6,
   "id": "d2360a82-9c83-4db2-bffe-5f6b20f70d20",
   "metadata": {},
   "outputs": [],
   "source": [
    "condition = df['Date'] == 'Total'\n",
    "df = df[~condition]"
   ]
  },
  {
   "cell_type": "code",
   "execution_count": 7,
   "id": "f80c5411-e468-4b8e-ba21-9f2ce5efffc0",
   "metadata": {},
   "outputs": [],
   "source": [
    "df['Date'] = pd.to_datetime(df['Date'], format='%Y-%m-%d')"
   ]
  },
  {
   "cell_type": "code",
   "execution_count": 8,
   "id": "61f41ea3-8f2d-43d4-92bf-0d0fcd7a0dea",
   "metadata": {},
   "outputs": [],
   "source": [
    "df['Average_time'] = df['Average_time'].round(2)"
   ]
  },
  {
   "cell_type": "code",
   "execution_count": 9,
   "id": "fb04ef6a-fe81-43d9-bf17-3c265dbd1385",
   "metadata": {},
   "outputs": [],
   "source": [
    "cols = ['Telegram', 'Exercise_and_Samsung_notes', 'Chrome', 'ReadEra', 'Others', 'Total', 'Numbers_opened']\n",
    "df[cols] = df[cols].astype(int)"
   ]
  },
  {
   "cell_type": "code",
   "execution_count": 10,
   "id": "8f91dac7-94c9-4607-8501-870c439b71df",
   "metadata": {},
   "outputs": [],
   "source": [
    "df.insert(1, 'Day_of_week', df['Date'].dt.day_name())"
   ]
  },
  {
   "cell_type": "code",
   "execution_count": 11,
   "id": "b4087a88-091e-4035-a1b5-b94ab4420364",
   "metadata": {},
   "outputs": [],
   "source": [
    "df.to_csv('Output/total.csv', index=False)"
   ]
  },
  {
   "cell_type": "code",
   "execution_count": 12,
   "id": "9b83e83a-8ca7-495b-be7d-bfe8f1a355de",
   "metadata": {},
   "outputs": [],
   "source": [
    "monthly_data = df.groupby(pd.PeriodIndex(df['Date'], freq=\"M\"))[cols].mean().reset_index()"
   ]
  },
  {
   "cell_type": "code",
   "execution_count": 13,
   "id": "4334d27f-f75d-470a-a942-ac1b66752a25",
   "metadata": {},
   "outputs": [],
   "source": [
    "monthly_data[cols] = monthly_data[cols].round(2)"
   ]
  },
  {
   "cell_type": "code",
   "execution_count": 14,
   "id": "3f060bae-50ce-49df-be09-14db5f4a4b29",
   "metadata": {},
   "outputs": [],
   "source": [
    "monthly_data['Average_time'] = monthly_data['Total']/monthly_data['Numbers_opened']\n",
    "monthly_data['Average_time'] = monthly_data['Average_time'].round(2)"
   ]
  },
  {
   "cell_type": "code",
   "execution_count": 15,
   "id": "50b0608a-a4d9-436e-b99e-fc46ff966a39",
   "metadata": {},
   "outputs": [],
   "source": [
    "monthly_data.to_csv('Output/monthly.csv', index=False)"
   ]
  },
  {
   "cell_type": "code",
   "execution_count": 17,
   "id": "9adf65ee-6fe0-4a50-bb6b-9e5cf6c9e889",
   "metadata": {},
   "outputs": [],
   "source": [
    "cols = ['Telegram', 'Exercise_and_Samsung_notes', 'Chrome', 'ReadEra', 'Others', 'Total']\n",
    "mean_values = df[cols].mean().round(2).tolist()\n",
    "mean_values = [mean_values]\n",
    "df_pie = pd.DataFrame(mean_values, columns = cols)"
   ]
  },
  {
   "cell_type": "code",
   "execution_count": 18,
   "id": "b0a750c7-e5cd-4c61-9f1b-e30357079786",
   "metadata": {},
   "outputs": [],
   "source": [
    "df_pie.to_csv('Output/pie.csv', index=False)"
   ]
  }
 ],
 "metadata": {
  "kernelspec": {
   "display_name": "Python 3 (ipykernel)",
   "language": "python",
   "name": "python3"
  },
  "language_info": {
   "codemirror_mode": {
    "name": "ipython",
    "version": 3
   },
   "file_extension": ".py",
   "mimetype": "text/x-python",
   "name": "python",
   "nbconvert_exporter": "python",
   "pygments_lexer": "ipython3",
   "version": "3.10.12"
  }
 },
 "nbformat": 4,
 "nbformat_minor": 5
}
